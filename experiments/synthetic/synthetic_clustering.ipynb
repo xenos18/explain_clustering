{
 "cells": [
  {
   "cell_type": "code",
   "execution_count": 2,
   "metadata": {},
   "outputs": [],
   "source": [
    "import numpy as np\n",
    "import pandas as pd\n"
   ]
  },
  {
   "cell_type": "markdown",
   "metadata": {},
   "source": [
    "# Synthetic data generation \n",
    "\n",
    "Binary case"
   ]
  },
  {
   "cell_type": "code",
   "execution_count": 4,
   "metadata": {},
   "outputs": [],
   "source": [
    "true_explanation = {\n",
    "    0: [0, 1, 2],\n",
    "    1: [3, 4, 5],\n",
    "    2: [6, 7, 8],\n",
    "    3: [6, 7, 9],\n",
    "    4: [10, 11, 12],\n",
    "}\n",
    "\n",
    "sample_size = 2000\n",
    "labels = list(true_explanation.keys())\n",
    "data = np.random.choice(labels, sample_size)"
   ]
  },
  {
   "cell_type": "code",
   "execution_count": 14,
   "metadata": {},
   "outputs": [],
   "source": [
    "#Генерация бинарных признаков\n",
    "df = pd.DataFrame(data, columns=['cluster_id'])\n",
    "for key in true_explanation:\n",
    "    features = true_explanation[key]\n",
    "    df[features] = 0\n",
    "    df.loc[df['cluster_id']==key, features] = 1\n"
   ]
  },
  {
   "cell_type": "code",
   "execution_count": null,
   "metadata": {},
   "outputs": [],
   "source": []
  },
  {
   "cell_type": "code",
   "execution_count": null,
   "metadata": {},
   "outputs": [],
   "source": []
  }
 ],
 "metadata": {
  "kernelspec": {
   "display_name": "Python 3.9.9 ('venv': venv)",
   "language": "python",
   "name": "python3"
  },
  "language_info": {
   "codemirror_mode": {
    "name": "ipython",
    "version": 3
   },
   "file_extension": ".py",
   "mimetype": "text/x-python",
   "name": "python",
   "nbconvert_exporter": "python",
   "pygments_lexer": "ipython3",
   "version": "3.9.9"
  },
  "orig_nbformat": 4,
  "vscode": {
   "interpreter": {
    "hash": "56bd76205fcaf5a2f60207db6757309a94a9847e332ad275b7022640cacff034"
   }
  }
 },
 "nbformat": 4,
 "nbformat_minor": 2
}
